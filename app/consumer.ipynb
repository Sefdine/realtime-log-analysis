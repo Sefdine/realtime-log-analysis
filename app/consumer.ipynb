{
 "cells": [
  {
   "cell_type": "code",
   "execution_count": null,
   "metadata": {},
   "outputs": [],
   "source": [
    "from azure.eventhub import EventHubConsumerClient\n",
    "import os\n",
    "from dotenv import load_dotenv\n",
    "\n",
    "load_dotenv()\n",
    "\n",
    "access_key = os.getenv('access_key')\n",
    "\n",
    " \n",
    "\n",
    "CONNECTION_STR = f\"Endpoint=sb://formersalamander.servicebus.windows.net/;SharedAccessKeyName=RootManageSharedAccessKey;SharedAccessKey={access_key}\"\n",
    "EVENTHUB_NAME = \"formersalamandersdata\"\n",
    "\n",
    "def on_event(partition_context, event):\n",
    "    print(\"Received event from partition: {}\".format(partition_context.partition_id))\n",
    "    print(\"Event Data:\")\n",
    "    print(event.body_as_str())\n",
    "\n",
    "consumer_client = EventHubConsumerClient.from_connection_string(\n",
    "    conn_str=CONNECTION_STR, consumer_group=\"$default\", eventhub_name=EVENTHUB_NAME\n",
    ")\n",
    "\n",
    "try:\n",
    "    with consumer_client:\n",
    "        consumer_client.receive(\n",
    "            on_event=on_event,\n",
    "            starting_position=\"-1\",  # Read from the beginning of the partition\n",
    "            partition_id=\"0\",  # Replace with the desired partition ID\n",
    "            timeout=5  # Adjust the timeout value as needed\n",
    "        )\n",
    "except KeyboardInterrupt:\n",
    "    print(\"Receiving has been stopped.\")\n"
   ]
  }
 ],
 "metadata": {
  "language_info": {
   "name": "python"
  }
 },
 "nbformat": 4,
 "nbformat_minor": 2
}
