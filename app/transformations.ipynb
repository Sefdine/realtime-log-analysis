{
 "cells": [
  {
   "cell_type": "markdown",
   "metadata": {
    "application/vnd.databricks.v1+cell": {
     "cellMetadata": {},
     "inputWidgets": {},
     "nuid": "9762749d-729e-487f-97d1-62b0157af932",
     "showTitle": false,
     "title": ""
    }
   },
   "source": [
    "## Initialize the spark session and create the dataframe"
   ]
  },
  {
   "cell_type": "code",
   "execution_count": 0,
   "metadata": {
    "application/vnd.databricks.v1+cell": {
     "cellMetadata": {
      "byteLimit": 2048000,
      "rowLimit": 10000
     },
     "inputWidgets": {},
     "nuid": "52ba6a6b-95df-4bcf-a84e-e957d08442f2",
     "showTitle": false,
     "title": ""
    }
   },
   "outputs": [],
   "source": [
    "from pyspark.sql import SparkSession\n",
    "from pyspark.sql import Row\n",
    "\n",
    "# Initialize Spark session\n",
    "spark = SparkSession.builder.appName(\"LogData\").getOrCreate()\n",
    "\n",
    "# Sample log entries\n",
    "log_entries = [\n",
    "    '2023-12-21T11:38:36.197907 | INFO | req_10351 | session_5265 | user_383 | view_page | GET | /about | Referrer: https://www.bing.com | IP: 103.131.153.85 | Agent: Mozilla/5.0 (iPhone; CPU iPhone OS 13_3 like Mac OS X) | Response Time: 0.75s | Product ID: prod_710 | Cart Size: 9 | Checkout Status: failed | Token: token_19632 | Auth Method: JWT | Auth Level: user | Correlation ID: corr_58741 | Server IP: 89.184.23.62 | Port: 7191 | Protocol: HTTP | 204 No Content | Detail: The server successfully processed the request.',\n",
    "    '2023-12-21T15:10:52.761271 | INFO | req_62600 | session_7173 | user_398 | view_page | GET | /about | Referrer: https://www.google.com | IP: 233.32.143.163 | Agent: Mozilla/5.0 (Macintosh; Intel Mac OS X 10_15_7) | Response Time: 1.05s | Product ID: prod_533 | Cart Size: 10 | Checkout Status: completed | Token: token_46281 | Auth Method: Basic | Auth Level: user | Correlation ID: corr_83929 | Server IP: 170.111.70.153 | Port: 8725 | Protocol: HTTP | 200 OK | Detail: Request succeeded.'\n",
    "]\n",
    "\n",
    "# Split each log entry based on the delimiter\n",
    "log_entry_lists = [entry.split(\" | \") for entry in log_entries]\n",
    "\n",
    "# Create a list of Row objects\n",
    "rows = [Row(*entry_list) for entry_list in log_entry_lists]\n",
    "\n",
    "# Define columns\n",
    "columns =  [\n",
    "    \"timestamp\", \"log_level\", \"request_id\", \"session_id\", \"user_id\", \"action\",\n",
    "    \"http_method\", \"url\", \"referrer_url\", \"ip_address\", \"user_agent\", \"response_time\",\n",
    "    \"product_id\", \"cart_size\", \"checkout_status\", \"token\", \"auth_method\", \"auth_level\",\n",
    "    \"correlation_id\", \"server_ip\", \"port_number\", \"protocol\", \"status_and_detail\"\n",
    "]\n",
    "\n",
    "# Create a DataFrame\n",
    "log_df = spark.createDataFrame(rows, columns)\n"
   ]
  },
  {
   "cell_type": "markdown",
   "metadata": {
    "application/vnd.databricks.v1+cell": {
     "cellMetadata": {},
     "inputWidgets": {},
     "nuid": "4058190c-605d-489f-8442-1c947dd33530",
     "showTitle": false,
     "title": ""
    }
   },
   "source": [
    "## Create database"
   ]
  },
  {
   "cell_type": "code",
   "execution_count": 0,
   "metadata": {
    "application/vnd.databricks.v1+cell": {
     "cellMetadata": {
      "byteLimit": 2048000,
      "rowLimit": 10000
     },
     "inputWidgets": {},
     "nuid": "082103e9-6b6b-4683-ba08-5a9d0527326f",
     "showTitle": false,
     "title": ""
    }
   },
   "outputs": [
    {
     "output_type": "execute_result",
     "data": {
      "text/plain": [
       "DataFrame[]"
      ]
     },
     "execution_count": 24,
     "metadata": {},
     "output_type": "execute_result"
    }
   ],
   "source": [
    "# Replace 'your_database_name' with the desired database name\n",
    "database_name = 'formerSalamendars'\n",
    "\n",
    "# Create the database\n",
    "spark.sql(f\"CREATE DATABASE IF NOT EXISTS {database_name}\")\n",
    "\n",
    "# Set the current database to the newly created database\n",
    "spark.sql(f\"USE {database_name}\")"
   ]
  },
  {
   "cell_type": "code",
   "execution_count": 0,
   "metadata": {
    "application/vnd.databricks.v1+cell": {
     "cellMetadata": {},
     "inputWidgets": {},
     "nuid": "bc1be12d-ae63-4389-befa-56bec95098f2",
     "showTitle": false,
     "title": ""
    }
   },
   "outputs": [],
   "source": [
    "# Define the Hive table name and location\n",
    "hive_table_name = 'formerSalamendars.logs'\n",
    "table_location = '/mnt/former_salamenders/logs'\n",
    "\n",
    "\n",
    "log_df.write.format('parquet').mode('overwrite').saveAsTable(hive_table_name)"
   ]
  }
 ],
 "metadata": {
  "application/vnd.databricks.v1+notebook": {
   "dashboards": [],
   "language": "python",
   "notebookMetadata": {
    "pythonIndentUnit": 4
   },
   "notebookName": "transformations",
   "widgets": {}
  }
 },
 "nbformat": 4,
 "nbformat_minor": 0
}
